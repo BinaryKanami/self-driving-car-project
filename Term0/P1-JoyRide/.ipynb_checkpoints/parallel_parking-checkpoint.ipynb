{
 "cells": [
  {
   "cell_type": "markdown",
   "metadata": {
    "collapsed": true
   },
   "source": [
    "# Joy Ride - Part 3: Parallel Parking\n",
    "In this section you will write a function that implements the correct sequence of steps required to parallel park a vehicle.\n",
    "\n",
    "**Note** for this segment the vehicle's maximum speed has been set to just over 4 mph. This should make parking a little easier.\n",
    "\n",
    "![](https://upload.wikimedia.org/wikipedia/commons/2/26/ParallelParkingAnimation.gif)"
   ]
  },
  {
   "cell_type": "code",
   "execution_count": 2,
   "metadata": {},
   "outputs": [
    {
     "data": {
      "text/html": [
       "<button id=\"launcher\">Launch Car Simulator</button>\n",
       "<script src=\"setupLauncher.js\"></script>"
      ],
      "text/plain": [
       "<IPython.core.display.HTML object>"
      ]
     },
     "metadata": {},
     "output_type": "display_data"
    }
   ],
   "source": [
    "%%HTML\n",
    "<button id=\"launcher\">Launch Car Simulator</button>\n",
    "<script src=\"setupLauncher.js\"></script>"
   ]
  },
  {
   "cell_type": "code",
   "execution_count": null,
   "metadata": {},
   "outputs": [],
   "source": [
    "# CODE CELL\n",
    "#\n",
    "# Write the park function so that it actually parks your vehicle.\n",
    "\n",
    "from Car import Car\n",
    "import time\n",
    "\n",
    "def park(car):\n",
    "    # TODO: Fix this function!\n",
    "    #  currently it just drives back and forth\n",
    "    #  Note that the allowed steering angles are\n",
    "    #  between -25.0 and 25.0 degrees and the \n",
    "    #  allowed values for gas are between -1.0 and 1.0\n",
    "    \n",
    "    # back up for 3 seconds\n",
    "    car.steer(25.0)\n",
    "    car.gas(-0.5)\n",
    "    time.sleep(2.8) # note how time.sleep works\n",
    "    \n",
    "    # angles for 3 seconds\n",
    "    car.steer(-25.0)\n",
    "    car.gas(-0.25)\n",
    "    time.sleep(3.0)\n",
    "    \n",
    "    # align the car\n",
    "    car.steer(15.0)\n",
    "    car.gas(0.35)\n",
    "    time.sleep(0.5)\n",
    "    \n",
    "    # stop the car\n",
    "    car.steer(0.0)\n",
    "    car.gas(0.0)\n",
    "    time.sleep(2.0)\n",
    "\n",
    "car = Car()\n",
    "park(car)"
   ]
  }
 ],
 "metadata": {
  "kernelspec": {
   "display_name": "Python 3",
   "language": "python",
   "name": "python3"
  },
  "language_info": {
   "codemirror_mode": {
    "name": "ipython",
    "version": 3
   },
   "file_extension": ".py",
   "mimetype": "text/x-python",
   "name": "python",
   "nbconvert_exporter": "python",
   "pygments_lexer": "ipython3",
   "version": "3.6.2"
  }
 },
 "nbformat": 4,
 "nbformat_minor": 2
}
